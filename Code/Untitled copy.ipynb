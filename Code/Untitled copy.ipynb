{
 "cells": [
  {
   "cell_type": "markdown",
   "id": "7630a9b0",
   "metadata": {},
   "source": [
    "# GOLD PRICE PREDICTION\n",
    "sources :\n",
    "\n",
    "https://www.analyticsvidhya.com/blog/2021/05/stock-price-prediction-and-forecasting-using-stacked-lstm/#:~:text=LSTMs%20are%20widely%20used%20for,the%20information%20that%20is%20not."
   ]
  },
  {
   "cell_type": "code",
   "execution_count": 125,
   "id": "ce10304f",
   "metadata": {},
   "outputs": [],
   "source": [
    "import pandas as pd\n",
    "import numpy as np\n",
    "import matplotlib.pyplot as plt\n",
    "\n",
    "import tensorflow as tf\n",
    "import keras\n",
    "from keras.models import Sequential\n",
    "from keras.layers import Dense,LSTM,Dropout,InputLayer"
   ]
  },
  {
   "cell_type": "code",
   "execution_count": 126,
   "id": "f21bc6b7",
   "metadata": {},
   "outputs": [],
   "source": [
    "df = pd.read_csv('../dataset/gold.csv')\n",
    "dataset_length = len(df)"
   ]
  },
  {
   "cell_type": "code",
   "execution_count": 127,
   "id": "24f9c02a",
   "metadata": {
    "scrolled": true
   },
   "outputs": [
    {
     "data": {
      "text/html": [
       "<div>\n",
       "<style scoped>\n",
       "    .dataframe tbody tr th:only-of-type {\n",
       "        vertical-align: middle;\n",
       "    }\n",
       "\n",
       "    .dataframe tbody tr th {\n",
       "        vertical-align: top;\n",
       "    }\n",
       "\n",
       "    .dataframe thead th {\n",
       "        text-align: right;\n",
       "    }\n",
       "</style>\n",
       "<table border=\"1\" class=\"dataframe\">\n",
       "  <thead>\n",
       "    <tr style=\"text-align: right;\">\n",
       "      <th></th>\n",
       "      <th>Date</th>\n",
       "      <th>Open</th>\n",
       "      <th>High</th>\n",
       "      <th>Low</th>\n",
       "      <th>Close</th>\n",
       "      <th>Volume</th>\n",
       "      <th>Currency</th>\n",
       "    </tr>\n",
       "  </thead>\n",
       "  <tbody>\n",
       "    <tr>\n",
       "      <th>0</th>\n",
       "      <td>2000-01-04</td>\n",
       "      <td>281.0</td>\n",
       "      <td>281.0</td>\n",
       "      <td>281.0</td>\n",
       "      <td>282.7</td>\n",
       "      <td>4</td>\n",
       "      <td>USD</td>\n",
       "    </tr>\n",
       "    <tr>\n",
       "      <th>1</th>\n",
       "      <td>2000-01-05</td>\n",
       "      <td>283.2</td>\n",
       "      <td>283.2</td>\n",
       "      <td>283.2</td>\n",
       "      <td>281.1</td>\n",
       "      <td>16</td>\n",
       "      <td>USD</td>\n",
       "    </tr>\n",
       "    <tr>\n",
       "      <th>2</th>\n",
       "      <td>2000-01-06</td>\n",
       "      <td>281.4</td>\n",
       "      <td>281.4</td>\n",
       "      <td>281.4</td>\n",
       "      <td>281.4</td>\n",
       "      <td>0</td>\n",
       "      <td>USD</td>\n",
       "    </tr>\n",
       "    <tr>\n",
       "      <th>3</th>\n",
       "      <td>2000-01-07</td>\n",
       "      <td>281.9</td>\n",
       "      <td>281.9</td>\n",
       "      <td>281.9</td>\n",
       "      <td>281.9</td>\n",
       "      <td>0</td>\n",
       "      <td>USD</td>\n",
       "    </tr>\n",
       "    <tr>\n",
       "      <th>4</th>\n",
       "      <td>2000-01-10</td>\n",
       "      <td>281.7</td>\n",
       "      <td>281.7</td>\n",
       "      <td>281.7</td>\n",
       "      <td>281.7</td>\n",
       "      <td>0</td>\n",
       "      <td>USD</td>\n",
       "    </tr>\n",
       "  </tbody>\n",
       "</table>\n",
       "</div>"
      ],
      "text/plain": [
       "         Date   Open   High    Low  Close  Volume Currency\n",
       "0  2000-01-04  281.0  281.0  281.0  282.7       4      USD\n",
       "1  2000-01-05  283.2  283.2  283.2  281.1      16      USD\n",
       "2  2000-01-06  281.4  281.4  281.4  281.4       0      USD\n",
       "3  2000-01-07  281.9  281.9  281.9  281.9       0      USD\n",
       "4  2000-01-10  281.7  281.7  281.7  281.7       0      USD"
      ]
     },
     "execution_count": 127,
     "metadata": {},
     "output_type": "execute_result"
    }
   ],
   "source": [
    "df.head()"
   ]
  },
  {
   "cell_type": "markdown",
   "id": "c5a63926",
   "metadata": {},
   "source": [
    "# DATA PREPROCESSING : \n",
    "### Making it per month :"
   ]
  },
  {
   "cell_type": "code",
   "execution_count": 128,
   "id": "b9891a9c",
   "metadata": {},
   "outputs": [],
   "source": [
    "prices_in_month = {}\n",
    "for i in range(dataset_length) :\n",
    "    year_month = df.loc[i][\"Date\"][:7]\n",
    "    try : ##if it exists in the dic\n",
    "        prices_in_month[year_month] \n",
    "    except : ##else we create an empty list\n",
    "        prices_in_month[year_month] = []\n",
    "    prices_in_month[year_month].append(df.loc[i][\"Close\"])\n",
    "    "
   ]
  },
  {
   "cell_type": "code",
   "execution_count": 129,
   "id": "968fb75c",
   "metadata": {},
   "outputs": [],
   "source": [
    "# price_per_month = {}\n",
    "# for k in prices_in_month :\n",
    "#     avg = np.average(prices_in_month[k])\n",
    "#     price_per_month[k] = [avg]"
   ]
  },
  {
   "cell_type": "code",
   "execution_count": 130,
   "id": "4904170e",
   "metadata": {},
   "outputs": [],
   "source": [
    "price_per_month = {\n",
    "    \"Date\" : [],\n",
    "    \"Close\": []\n",
    "}\n",
    "for k in prices_in_month :\n",
    "    avg = np.average(prices_in_month[k])\n",
    "    price_per_month[\"Date\"].append(k) \n",
    "    price_per_month[\"Close\"].append(avg) \n",
    "    "
   ]
  },
  {
   "cell_type": "code",
   "execution_count": 131,
   "id": "2750b4f2",
   "metadata": {},
   "outputs": [
    {
     "data": {
      "text/html": [
       "<div>\n",
       "<style scoped>\n",
       "    .dataframe tbody tr th:only-of-type {\n",
       "        vertical-align: middle;\n",
       "    }\n",
       "\n",
       "    .dataframe tbody tr th {\n",
       "        vertical-align: top;\n",
       "    }\n",
       "\n",
       "    .dataframe thead th {\n",
       "        text-align: right;\n",
       "    }\n",
       "</style>\n",
       "<table border=\"1\" class=\"dataframe\">\n",
       "  <thead>\n",
       "    <tr style=\"text-align: right;\">\n",
       "      <th></th>\n",
       "      <th>Date</th>\n",
       "      <th>Close</th>\n",
       "    </tr>\n",
       "  </thead>\n",
       "  <tbody>\n",
       "    <tr>\n",
       "      <th>0</th>\n",
       "      <td>2000-01</td>\n",
       "      <td>284.894737</td>\n",
       "    </tr>\n",
       "    <tr>\n",
       "      <th>1</th>\n",
       "      <td>2000-02</td>\n",
       "      <td>300.090000</td>\n",
       "    </tr>\n",
       "    <tr>\n",
       "      <th>2</th>\n",
       "      <td>2000-03</td>\n",
       "      <td>285.956522</td>\n",
       "    </tr>\n",
       "    <tr>\n",
       "      <th>3</th>\n",
       "      <td>2000-04</td>\n",
       "      <td>279.784211</td>\n",
       "    </tr>\n",
       "    <tr>\n",
       "      <th>4</th>\n",
       "      <td>2000-05</td>\n",
       "      <td>274.936364</td>\n",
       "    </tr>\n",
       "    <tr>\n",
       "      <th>...</th>\n",
       "      <td>...</td>\n",
       "      <td>...</td>\n",
       "    </tr>\n",
       "    <tr>\n",
       "      <th>266</th>\n",
       "      <td>2022-03</td>\n",
       "      <td>1960.521739</td>\n",
       "    </tr>\n",
       "    <tr>\n",
       "      <th>267</th>\n",
       "      <td>2022-04</td>\n",
       "      <td>1944.180000</td>\n",
       "    </tr>\n",
       "    <tr>\n",
       "      <th>268</th>\n",
       "      <td>2022-05</td>\n",
       "      <td>1853.232609</td>\n",
       "    </tr>\n",
       "    <tr>\n",
       "      <th>269</th>\n",
       "      <td>2022-06</td>\n",
       "      <td>1838.936957</td>\n",
       "    </tr>\n",
       "    <tr>\n",
       "      <th>270</th>\n",
       "      <td>2022-07</td>\n",
       "      <td>1806.300000</td>\n",
       "    </tr>\n",
       "  </tbody>\n",
       "</table>\n",
       "<p>271 rows × 2 columns</p>\n",
       "</div>"
      ],
      "text/plain": [
       "        Date        Close\n",
       "0    2000-01   284.894737\n",
       "1    2000-02   300.090000\n",
       "2    2000-03   285.956522\n",
       "3    2000-04   279.784211\n",
       "4    2000-05   274.936364\n",
       "..       ...          ...\n",
       "266  2022-03  1960.521739\n",
       "267  2022-04  1944.180000\n",
       "268  2022-05  1853.232609\n",
       "269  2022-06  1838.936957\n",
       "270  2022-07  1806.300000\n",
       "\n",
       "[271 rows x 2 columns]"
      ]
     },
     "execution_count": 131,
     "metadata": {},
     "output_type": "execute_result"
    }
   ],
   "source": [
    "## make it a dataframe :\n",
    "df1 = pd.DataFrame(price_per_month)\n",
    "df1"
   ]
  },
  {
   "cell_type": "code",
   "execution_count": 132,
   "id": "0de74d96",
   "metadata": {},
   "outputs": [
    {
     "name": "stdout",
     "output_type": "stream",
     "text": [
      "               Date        Close\n",
      "Date                            \n",
      "2000-01-01  2000-01   284.894737\n",
      "2000-02-01  2000-02   300.090000\n",
      "2000-03-01  2000-03   285.956522\n",
      "2000-04-01  2000-04   279.784211\n",
      "2000-05-01  2000-05   274.936364\n",
      "...             ...          ...\n",
      "2022-03-01  2022-03  1960.521739\n",
      "2022-04-01  2022-04  1944.180000\n",
      "2022-05-01  2022-05  1853.232609\n",
      "2022-06-01  2022-06  1838.936957\n",
      "2022-07-01  2022-07  1806.300000\n",
      "\n",
      "[271 rows x 2 columns]\n"
     ]
    },
    {
     "data": {
      "text/plain": [
       "<AxesSubplot:xlabel='Date'>"
      ]
     },
     "execution_count": 132,
     "metadata": {},
     "output_type": "execute_result"
    },
    {
     "data": {
      "image/png": "[encoded data removed]",
      "text/plain": [
       "<Figure size 432x288 with 1 Axes>"
      ]
     },
     "metadata": {
      "needs_background": "light"
     },
     "output_type": "display_data"
    }
   ],
   "source": [
    "df1.index = pd.to_datetime(df1['Date'],format='%Y-%m')\n",
    "print(df1)\n",
    "df1.plot()"
   ]
  },
  {
   "cell_type": "code",
   "execution_count": 133,
   "id": "025e5a9e",
   "metadata": {},
   "outputs": [
    {
     "data": {
      "text/plain": [
       "Date\n",
       "2000-01-01     284.894737\n",
       "2000-02-01     300.090000\n",
       "2000-03-01     285.956522\n",
       "2000-04-01     279.784211\n",
       "2000-05-01     274.936364\n",
       "                 ...     \n",
       "2022-03-01    1960.521739\n",
       "2022-04-01    1944.180000\n",
       "2022-05-01    1853.232609\n",
       "2022-06-01    1838.936957\n",
       "2022-07-01    1806.300000\n",
       "Name: Close, Length: 271, dtype: float64"
      ]
     },
     "execution_count": 133,
     "metadata": {},
     "output_type": "execute_result"
    }
   ],
   "source": [
    "df_close = df1['Close']\n",
    "df_close"
   ]
  },
  {
   "cell_type": "code",
   "execution_count": 83,
   "metadata": {},
   "outputs": [
    {
     "data": {
      "text/html": [
       "<div>\n",
       "<style scoped>\n",
       "    .dataframe tbody tr th:only-of-type {\n",
       "        vertical-align: middle;\n",
       "    }\n",
       "\n",
       "    .dataframe tbody tr th {\n",
       "        vertical-align: top;\n",
       "    }\n",
       "\n",
       "    .dataframe thead th {\n",
       "        text-align: right;\n",
       "    }\n",
       "</style>\n",
       "<table border=\"1\" class=\"dataframe\">\n",
       "  <thead>\n",
       "    <tr style=\"text-align: right;\">\n",
       "      <th></th>\n",
       "      <th>Close</th>\n",
       "    </tr>\n",
       "  </thead>\n",
       "  <tbody>\n",
       "    <tr>\n",
       "      <th>0</th>\n",
       "      <td>0.013948</td>\n",
       "    </tr>\n",
       "    <tr>\n",
       "      <th>1</th>\n",
       "      <td>0.022848</td>\n",
       "    </tr>\n",
       "    <tr>\n",
       "      <th>2</th>\n",
       "      <td>0.014570</td>\n",
       "    </tr>\n",
       "    <tr>\n",
       "      <th>3</th>\n",
       "      <td>0.010955</td>\n",
       "    </tr>\n",
       "    <tr>\n",
       "      <th>4</th>\n",
       "      <td>0.008116</td>\n",
       "    </tr>\n",
       "    <tr>\n",
       "      <th>...</th>\n",
       "      <td>...</td>\n",
       "    </tr>\n",
       "    <tr>\n",
       "      <th>266</th>\n",
       "      <td>0.995366</td>\n",
       "    </tr>\n",
       "    <tr>\n",
       "      <th>267</th>\n",
       "      <td>0.985795</td>\n",
       "    </tr>\n",
       "    <tr>\n",
       "      <th>268</th>\n",
       "      <td>0.932527</td>\n",
       "    </tr>\n",
       "    <tr>\n",
       "      <th>269</th>\n",
       "      <td>0.924154</td>\n",
       "    </tr>\n",
       "    <tr>\n",
       "      <th>270</th>\n",
       "      <td>0.905038</td>\n",
       "    </tr>\n",
       "  </tbody>\n",
       "</table>\n",
       "<p>271 rows × 1 columns</p>\n",
       "</div>"
      ],
      "text/plain": [
       "        Close\n",
       "0    0.013948\n",
       "1    0.022848\n",
       "2    0.014570\n",
       "3    0.010955\n",
       "4    0.008116\n",
       "..        ...\n",
       "266  0.995366\n",
       "267  0.985795\n",
       "268  0.932527\n",
       "269  0.924154\n",
       "270  0.905038\n",
       "\n",
       "[271 rows x 1 columns]"
      ]
     },
     "execution_count": 83,
     "metadata": {},
     "output_type": "execute_result"
    }
   ],
   "source": [
    "from sklearn.preprocessing import MinMaxScaler\n",
    "scaler = MinMaxScaler(feature_range=(0,1))\n",
    "df_scaled=scaler.fit_transform(np.array(df_close).reshape(-1,1))\n",
    "df_scaled = pd.DataFrame(df_scaled,columns=['Close'])\n",
    "df_close = df_scaled\n",
    "df_close"
   ]
  },
  {
   "cell_type": "code",
   "execution_count": 136,
   "id": "cc3256b9",
   "metadata": {},
   "outputs": [],
   "source": [
    "def to_X_Y(df, window_size = 5):\n",
    "    df_as_np = df.to_numpy()\n",
    "    X = []\n",
    "    y = []\n",
    "    for i in range(len(df_as_np)-window_size):\n",
    "        row = [[a] for a in df_as_np[i:i+5]]\n",
    "        X.append(row)\n",
    "        label = df_as_np[i+5]\n",
    "        y.append(label)\n",
    "    return np.array(X),np.array(y)"
   ]
  },
  {
   "cell_type": "code",
   "execution_count": 137,
   "id": "6dbb5907",
   "metadata": {},
   "outputs": [
    {
     "data": {
      "text/plain": [
       "((266, 5, 1), (266,))"
      ]
     },
     "execution_count": 137,
     "metadata": {},
     "output_type": "execute_result"
    }
   ],
   "source": [
    "WINDOW_SIZE = 5\n",
    "X,y = to_X_Y(df_close,WINDOW_SIZE)\n",
    "X.shape,y.shape"
   ]
  },
  {
   "cell_type": "markdown",
   "id": "c9fc9baa",
   "metadata": {},
   "source": [
    "### split into training and test    "
   ]
  },
  {
   "cell_type": "code",
   "execution_count": 138,
   "id": "498961b3",
   "metadata": {},
   "outputs": [],
   "source": [
    "baseLen = X.shape[0]\n",
    "trainingLen = int(baseLen*0.6)\n",
    "valLen = int(baseLen*0.8)\n",
    "x_train, y_train = X[:trainingLen],y[:trainingLen]\n",
    "x_val, y_val = X[trainingLen:valLen],y[trainingLen:valLen]\n",
    "x_test, y_test = X[valLen:],y[valLen:]"
   ]
  },
  {
   "cell_type": "code",
   "execution_count": 139,
   "id": "c93fc9b6",
   "metadata": {},
   "outputs": [
    {
     "data": {
      "text/plain": [
       "((159, 5, 1), (159,), (53, 5, 1), (53,), (54, 5, 1), (54,))"
      ]
     },
     "execution_count": 139,
     "metadata": {},
     "output_type": "execute_result"
    }
   ],
   "source": [
    "x_train.shape, y_train.shape ,x_val.shape, y_val.shape,x_test.shape, y_test.shape"
   ]
  },
  {
   "cell_type": "markdown",
   "id": "c9fc9baa",
   "metadata": {},
   "source": [
    "# Model building"
   ]
  },
  {
   "cell_type": "code",
   "execution_count": 143,
   "id": "5507bcfe",
   "metadata": {},
   "outputs": [
    {
     "name": "stdout",
     "output_type": "stream",
     "text": [
      "Model: \"sequential_15\"\n",
      "_________________________________________________________________\n",
      " Layer (type)                Output Shape              Param #   \n",
      "=================================================================\n",
      " lstm_31 (LSTM)              (None, 64)                16896     \n",
      "                                                                 \n",
      " dense_20 (Dense)            (None, 8)                 520       \n",
      "                                                                 \n",
      " dense_21 (Dense)            (None, 8)                 72        \n",
      "                                                                 \n",
      "=================================================================\n",
      "Total params: 17,488\n",
      "Trainable params: 17,488\n",
      "Non-trainable params: 0\n",
      "_________________________________________________________________\n"
     ]
    }
   ],
   "source": [
    "model = Sequential()\n",
    "\n",
    "model.add(InputLayer((5,1)))\n",
    "model.add(LSTM(64))\n",
    "model.add(Dense(8,'relu'))\n",
    "model.add(Dense(8,'linear'))\n",
    "\n",
    "\n",
    "opt = keras.optimizers.Adam(learning_rate=1e-3)\n",
    "model.compile(loss='mean_squared_error',\n",
    "    optimizer=opt,\n",
    "    metrics=['accuracy',tf.keras.metrics.RootMeanSquaredError()])\n",
    "model.summary()"
   ]
  },
  {
   "cell_type": "code",
   "execution_count": 144,
   "id": "36905dd8",
   "metadata": {},
   "outputs": [
    {
     "name": "stdout",
     "output_type": "stream",
     "text": [
      "Epoch 1/5000\n",
      "5/5 [==============================] - ETA: 0s - loss: 870118.2500 - accuracy: 0.0000e+00 - root_mean_squared_error: 932.8013 "
     ]
    }
   ],
   "source": [
    "model.fit(\n",
    "    x_train,\n",
    "    y_train,\n",
    "    validation_data=(x_val, y_val),\n",
    "    epochs = 5000\n",
    ")"
   ]
  },
  {
   "cell_type": "code",
   "execution_count": 122,
   "id": "e922a029",
   "metadata": {},
   "outputs": [
    {
     "name": "stdout",
     "output_type": "stream",
     "text": [
      "2/2 [==============================] - 1s 5ms/step\n"
     ]
    },
    {
     "data": {
      "text/plain": [
       "array([[ 700.1296 , 1446.093  , 1286.144  , 1223.0896 ,  673.3682 ,\n",
       "        1453.7001 , 1397.2512 ,  936.04175],\n",
       "       [ 698.38184, 1440.0543 , 1277.6274 , 1217.9685 ,  672.38605,\n",
       "        1445.2905 , 1390.2179 ,  928.55896],\n",
       "       [ 701.91595, 1451.4417 , 1285.1615 , 1226.7756 ,  675.38995,\n",
       "        1455.7454 , 1400.5785 ,  933.60516],\n",
       "       [ 706.58203, 1466.4465 , 1296.3668 , 1238.508  ,  679.4838 ,\n",
       "        1470.4902 , 1414.5349 ,  941.0001 ],\n",
       "       [ 713.3581 , 1488.8916 , 1317.157  , 1256.5178 ,  684.5754 ,\n",
       "        1494.8998 , 1437.028  ,  957.39514],\n",
       "       [ 710.8416 , 1481.1538 , 1313.2174 , 1250.6409 ,  681.76843,\n",
       "        1488.2335 , 1430.638  ,  956.41077],\n",
       "       [ 705.63513, 1464.9913 , 1304.035  , 1238.2715 ,  676.20496,\n",
       "        1473.7893 , 1416.8955 ,  953.0036 ],\n",
       "       [ 698.0417 , 1441.1388 , 1289.7849 , 1219.9604 ,  668.60004,\n",
       "        1452.3092 , 1396.1678 ,  946.2349 ],\n",
       "       [ 686.33636, 1403.5128 , 1262.0459 , 1190.6227 ,  658.2989 ,\n",
       "        1415.6881 , 1361.3043 ,  928.10345],\n",
       "       [ 676.93695, 1372.9739 , 1237.5387 , 1166.685  ,  650.657  ,\n",
       "        1385.0173 , 1332.1825 ,  910.47296],\n",
       "       [ 669.00397, 1347.1078 , 1214.57   , 1146.24   ,  644.3058 ,\n",
       "        1357.6288 , 1306.8655 ,  893.607  ],\n",
       "       [ 667.17255, 1340.666  , 1206.0925 , 1140.8792 ,  643.57526,\n",
       "        1349.3094 , 1299.423  ,  885.5318 ],\n",
       "       [ 672.2732 , 1356.4978 , 1215.3774 , 1152.9105 ,  648.90515,\n",
       "        1363.4254 , 1312.9562 ,  889.1883 ],\n",
       "       [ 680.6356 , 1382.9165 , 1233.0619 , 1173.2349 ,  656.9038 ,\n",
       "        1388.124  , 1336.5513 ,  898.8465 ],\n",
       "       [ 688.4237 , 1408.1322 , 1251.755  , 1192.8646 ,  663.3365 ,\n",
       "        1412.4542 , 1360.1183 ,  911.9585 ],\n",
       "       [ 696.6559 , 1435.0553 , 1274.7998 , 1214.1692 ,  669.8603 ,\n",
       "        1440.481  , 1386.3215 ,  929.1456 ],\n",
       "       [ 701.68604, 1451.5476 , 1290.2712 , 1227.373  ,  673.8895 ,\n",
       "        1458.6356 , 1402.7542 ,  940.70984],\n",
       "       [ 704.9297 , 1461.1785 , 1296.0131 , 1234.737  ,  678.17236,\n",
       "        1467.8663 , 1410.5934 ,  940.9896 ],\n",
       "       [ 707.30347, 1467.7155 , 1294.6741 , 1239.1923 ,  681.91766,\n",
       "        1470.8579 , 1414.063  ,  935.3227 ],\n",
       "       [ 717.87994, 1500.3197 , 1311.4354 , 1263.8816 ,  693.2986 ,\n",
       "        1498.7848 , 1441.1577 ,  940.3595 ],\n",
       "       [ 735.0593 , 1555.3351 , 1348.3986 , 1306.675  ,  708.81683,\n",
       "        1550.4849 , 1491.0491 ,  963.4358 ],\n",
       "       [ 756.91315, 1626.5481 , 1403.8806 , 1363.2242 ,  727.34863,\n",
       "        1622.4944 , 1558.6794 , 1002.9936 ],\n",
       "       [ 771.5927 , 1674.9412 , 1444.399  , 1402.1788 ,  739.31665,\n",
       "        1673.4142 , 1605.841  , 1033.6824 ],\n",
       "       [ 781.37665, 1707.0709 , 1472.9305 , 1428.2935 ,  747.7672 ,\n",
       "        1708.7388 , 1637.4529 , 1054.4698 ],\n",
       "       [ 782.3116 , 1709.084  , 1471.6841 , 1429.5222 ,  750.12787,\n",
       "        1709.6455 , 1637.733  , 1049.5804 ],\n",
       "       [ 784.4329 , 1714.9835 , 1470.2578 , 1433.5181 ,  753.25653,\n",
       "        1712.1119 , 1640.8978 , 1044.7834 ],\n",
       "       [ 790.7687 , 1735.2233 , 1481.0286 , 1449.1892 ,  759.168  ,\n",
       "        1729.5709 , 1658.4785 , 1050.8988 ],\n",
       "       [ 806.95807, 1786.666  , 1515.1547 , 1489.7919 ,  775.3065 ,\n",
       "        1779.4121 , 1704.6552 , 1069.7251 ],\n",
       "       [ 826.92444, 1851.3728 , 1560.5612 , 1541.521  ,  793.7959 ,\n",
       "        1843.3895 , 1764.4574 , 1099.5272 ],\n",
       "       [ 841.55396, 1898.917  , 1592.6366 , 1579.5786 ,  807.2653 ,\n",
       "        1889.6929 , 1808.1796 , 1120.8654 ],\n",
       "       [ 858.8833 , 1954.2363 , 1627.927  , 1623.6262 ,  824.70764,\n",
       "        1943.1136 , 1857.6897 , 1140.5114 ],\n",
       "       [ 885.8029 , 2040.8364 , 1684.6978 , 1693.1884 ,  851.45087,\n",
       "        2028.095  , 1936.1335 , 1174.2045 ],\n",
       "       [ 903.6519 , 2099.5847 , 1721.0417 , 1740.6254 ,  867.5189 ,\n",
       "        2083.6792 , 1989.8972 , 1200.0844 ],\n",
       "       [ 924.12573, 2167.493  , 1768.2299 , 1796.5273 ,  886.21466,\n",
       "        2152.3494 , 2053.7778 , 1234.6085 ],\n",
       "       [ 945.75226, 2240.8545 , 1826.0176 , 1858.494  ,  905.1443 ,\n",
       "        2231.6907 , 2125.8    , 1281.0459 ],\n",
       "       [ 954.9211 , 2272.3806 , 1854.2229 , 1885.7886 ,  913.1983 ,\n",
       "        2268.5183 , 2157.935  , 1304.2839 ],\n",
       "       [ 947.42285, 2247.4255 , 1837.2443 , 1865.0331 ,  906.1097 ,\n",
       "        2243.1064 , 2134.5103 , 1291.9863 ],\n",
       "       [ 941.8529 , 2229.8372 , 1828.2092 , 1850.9772 ,  899.9176 ,\n",
       "        2226.9258 , 2119.515  , 1288.4065 ],\n",
       "       [ 928.5547 , 2187.0493 , 1802.6189 , 1816.2411 ,  885.9093 ,\n",
       "        2185.4329 , 2081.4414 , 1274.4796 ],\n",
       "       [ 918.7361 , 2154.463  , 1783.3086 , 1789.7152 ,  877.0806 ,\n",
       "        2154.8755 , 2051.648  , 1260.2329 ],\n",
       "       [ 910.8138 , 2126.5862 , 1760.3053 , 1765.9933 ,  871.6528 ,\n",
       "        2124.8618 , 2023.1847 , 1238.1499 ],\n",
       "       [ 901.6216 , 2095.3674 , 1731.1074 , 1739.2609 ,  863.58887,\n",
       "        2087.9668 , 1991.2936 , 1214.8741 ],\n",
       "       [ 899.61615, 2088.8462 , 1723.0277 , 1733.5111 ,  861.25244,\n",
       "        2078.575  , 1984.3656 , 1209.775  ],\n",
       "       [ 909.9733 , 2124.0046 , 1752.445  , 1763.1636 ,  870.0159 ,\n",
       "        2117.3704 , 2019.3754 , 1233.7233 ],\n",
       "       [ 915.92804, 2144.4175 , 1772.2979 , 1780.7946 ,  875.1236 ,\n",
       "        2142.0146 , 2040.5623 , 1249.9792 ],\n",
       "       [ 908.0419 , 2118.269  , 1753.8712 , 1759.217  ,  867.8389 ,\n",
       "        2115.319  , 2015.9121 , 1236.616  ],\n",
       "       [ 902.78546, 2100.1118 , 1738.5404 , 1743.8351 ,  863.8079 ,\n",
       "        2095.395  , 1997.5465 , 1223.0802 ],\n",
       "       [ 900.6787 , 2093.178  , 1732.1061 , 1737.9451 ,  861.671  ,\n",
       "        2087.0957 , 1990.6523 , 1218.6962 ],\n",
       "       [ 901.9386 , 2097.0452 , 1733.7825 , 1740.9517 ,  863.1521 ,\n",
       "        2090.438  , 1993.7783 , 1218.9274 ],\n",
       "       [ 906.52893, 2111.486  , 1741.8953 , 1752.4374 ,  868.2045 ,\n",
       "        2104.0256 , 2006.2296 , 1222.3163 ],\n",
       "       [ 916.58813, 2143.229  , 1759.8256 , 1777.7325 ,  879.17236,\n",
       "        2133.9353 , 2033.7094 , 1230.1694 ],\n",
       "       [ 923.5591 , 2165.8345 , 1770.2913 , 1795.5967 ,  885.7337 ,\n",
       "        2153.0312 , 2053.2107 , 1236.5236 ],\n",
       "       [ 933.9094 , 2201.762  , 1798.3002 , 1826.0204 ,  893.61066,\n",
       "        2191.0405 , 2089.0635 , 1261.9492 ],\n",
       "       [ 942.1524 , 2230.4302 , 1825.2954 , 1850.989  ,  900.40625,\n",
       "        2225.211  , 2118.901  , 1285.2207 ]], dtype=float32)"
      ]
     },
     "execution_count": 122,
     "metadata": {},
     "output_type": "execute_result"
    }
   ],
   "source": [
    "test_predict=model.predict(x_test)\n",
    "test_predict=scaler.inverse_transform(test_predict)\n",
    "test_predict"
   ]
  },
  {
   "cell_type": "code",
   "execution_count": 124,
   "id": "0c112f0f",
   "metadata": {},
   "outputs": [
    {
     "data": {
      "text/plain": [
       "816.0770135392261"
      ]
     },
     "execution_count": 124,
     "metadata": {},
     "output_type": "execute_result"
    }
   ],
   "source": [
    "import math\n",
    "from sklearn.metrics import mean_squared_error\n",
    "math.sqrt(mean_squared_error(y_test,test_predict[:,0]))"
   ]
  }
 ],
 "metadata": {
  "interpreter": {
   "hash": "64f62ddfe7fe9adb650e0bcd07cba523592f74b5a8c5e99bdcf622be8478c510"
  },
  "kernelspec": {
   "display_name": "Python 3.10.4 ('PFA_WEBAPP')",
   "language": "python",
   "name": "python3"
  },
  "language_info": {
   "codemirror_mode": {
    "name": "ipython",
    "version": 3
   },
   "file_extension": ".py",
   "mimetype": "text/x-python",
   "name": "python",
   "nbconvert_exporter": "python",
   "pygments_lexer": "ipython3",
   "version": "3.10.4"
  },
  "vscode": {
   "interpreter": {
    "hash": "64f62ddfe7fe9adb650e0bcd07cba523592f74b5a8c5e99bdcf622be8478c510"
   }
  }
 },
 "nbformat": 4,
 "nbformat_minor": 5
}
