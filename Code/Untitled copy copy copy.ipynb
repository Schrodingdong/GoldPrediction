{
 "cells": [
  {
   "cell_type": "code",
   "execution_count": 2,
   "metadata": {},
   "outputs": [],
   "source": [
    "import pandas as pd\n",
    "import numpy as np\n",
    "import matplotlib.pyplot as plt\n",
    "\n",
    "import tensorflow as tf\n",
    "import keras\n",
    "from keras.models import Sequential\n",
    "from keras.layers import Dense,LSTM,Dropout,InputLayer"
   ]
  },
  {
   "cell_type": "code",
   "execution_count": 3,
   "metadata": {},
   "outputs": [
    {
     "data": {
      "text/html": [
       "<div>\n",
       "<style scoped>\n",
       "    .dataframe tbody tr th:only-of-type {\n",
       "        vertical-align: middle;\n",
       "    }\n",
       "\n",
       "    .dataframe tbody tr th {\n",
       "        vertical-align: top;\n",
       "    }\n",
       "\n",
       "    .dataframe thead th {\n",
       "        text-align: right;\n",
       "    }\n",
       "</style>\n",
       "<table border=\"1\" class=\"dataframe\">\n",
       "  <thead>\n",
       "    <tr style=\"text-align: right;\">\n",
       "      <th></th>\n",
       "      <th>Date</th>\n",
       "      <th>Open</th>\n",
       "      <th>High</th>\n",
       "      <th>Low</th>\n",
       "      <th>Close</th>\n",
       "      <th>Volume</th>\n",
       "      <th>Currency</th>\n",
       "    </tr>\n",
       "  </thead>\n",
       "  <tbody>\n",
       "    <tr>\n",
       "      <th>0</th>\n",
       "      <td>2000-01-04</td>\n",
       "      <td>281.0</td>\n",
       "      <td>281.0</td>\n",
       "      <td>281.00</td>\n",
       "      <td>282.7</td>\n",
       "      <td>4</td>\n",
       "      <td>USD</td>\n",
       "    </tr>\n",
       "    <tr>\n",
       "      <th>1</th>\n",
       "      <td>2000-01-05</td>\n",
       "      <td>283.2</td>\n",
       "      <td>283.2</td>\n",
       "      <td>283.20</td>\n",
       "      <td>281.1</td>\n",
       "      <td>16</td>\n",
       "      <td>USD</td>\n",
       "    </tr>\n",
       "    <tr>\n",
       "      <th>2</th>\n",
       "      <td>2000-01-06</td>\n",
       "      <td>281.4</td>\n",
       "      <td>281.4</td>\n",
       "      <td>281.40</td>\n",
       "      <td>281.4</td>\n",
       "      <td>0</td>\n",
       "      <td>USD</td>\n",
       "    </tr>\n",
       "    <tr>\n",
       "      <th>3</th>\n",
       "      <td>2000-01-07</td>\n",
       "      <td>281.9</td>\n",
       "      <td>281.9</td>\n",
       "      <td>281.90</td>\n",
       "      <td>281.9</td>\n",
       "      <td>0</td>\n",
       "      <td>USD</td>\n",
       "    </tr>\n",
       "    <tr>\n",
       "      <th>4</th>\n",
       "      <td>2000-01-10</td>\n",
       "      <td>281.7</td>\n",
       "      <td>281.7</td>\n",
       "      <td>281.70</td>\n",
       "      <td>281.7</td>\n",
       "      <td>0</td>\n",
       "      <td>USD</td>\n",
       "    </tr>\n",
       "    <tr>\n",
       "      <th>...</th>\n",
       "      <td>...</td>\n",
       "      <td>...</td>\n",
       "      <td>...</td>\n",
       "      <td>...</td>\n",
       "      <td>...</td>\n",
       "      <td>...</td>\n",
       "      <td>...</td>\n",
       "    </tr>\n",
       "    <tr>\n",
       "      <th>5757</th>\n",
       "      <td>2022-06-29</td>\n",
       "      <td>1821.4</td>\n",
       "      <td>1834.9</td>\n",
       "      <td>1810.70</td>\n",
       "      <td>1817.5</td>\n",
       "      <td>155542</td>\n",
       "      <td>USD</td>\n",
       "    </tr>\n",
       "    <tr>\n",
       "      <th>5758</th>\n",
       "      <td>2022-06-30</td>\n",
       "      <td>1819.2</td>\n",
       "      <td>1826.8</td>\n",
       "      <td>1802.50</td>\n",
       "      <td>1807.3</td>\n",
       "      <td>208898</td>\n",
       "      <td>USD</td>\n",
       "    </tr>\n",
       "    <tr>\n",
       "      <th>5759</th>\n",
       "      <td>2022-07-01</td>\n",
       "      <td>1808.1</td>\n",
       "      <td>1813.6</td>\n",
       "      <td>1783.40</td>\n",
       "      <td>1801.5</td>\n",
       "      <td>249489</td>\n",
       "      <td>USD</td>\n",
       "    </tr>\n",
       "    <tr>\n",
       "      <th>5760</th>\n",
       "      <td>2022-07-03</td>\n",
       "      <td>1812.5</td>\n",
       "      <td>1814.2</td>\n",
       "      <td>1809.05</td>\n",
       "      <td>1809.1</td>\n",
       "      <td>0</td>\n",
       "      <td>USD</td>\n",
       "    </tr>\n",
       "    <tr>\n",
       "      <th>5761</th>\n",
       "      <td>2022-07-04</td>\n",
       "      <td>1809.2</td>\n",
       "      <td>1815.1</td>\n",
       "      <td>1804.85</td>\n",
       "      <td>1808.3</td>\n",
       "      <td>0</td>\n",
       "      <td>USD</td>\n",
       "    </tr>\n",
       "  </tbody>\n",
       "</table>\n",
       "<p>5762 rows × 7 columns</p>\n",
       "</div>"
      ],
      "text/plain": [
       "            Date    Open    High      Low   Close  Volume Currency\n",
       "0     2000-01-04   281.0   281.0   281.00   282.7       4      USD\n",
       "1     2000-01-05   283.2   283.2   283.20   281.1      16      USD\n",
       "2     2000-01-06   281.4   281.4   281.40   281.4       0      USD\n",
       "3     2000-01-07   281.9   281.9   281.90   281.9       0      USD\n",
       "4     2000-01-10   281.7   281.7   281.70   281.7       0      USD\n",
       "...          ...     ...     ...      ...     ...     ...      ...\n",
       "5757  2022-06-29  1821.4  1834.9  1810.70  1817.5  155542      USD\n",
       "5758  2022-06-30  1819.2  1826.8  1802.50  1807.3  208898      USD\n",
       "5759  2022-07-01  1808.1  1813.6  1783.40  1801.5  249489      USD\n",
       "5760  2022-07-03  1812.5  1814.2  1809.05  1809.1       0      USD\n",
       "5761  2022-07-04  1809.2  1815.1  1804.85  1808.3       0      USD\n",
       "\n",
       "[5762 rows x 7 columns]"
      ]
     },
     "execution_count": 3,
     "metadata": {},
     "output_type": "execute_result"
    }
   ],
   "source": [
    "df = pd.read_csv('../dataset/gold.csv')\n",
    "dataset_length = len(df)\n",
    "df"
   ]
  },
  {
   "cell_type": "markdown",
   "id": "c5a63926",
   "metadata": {},
   "source": [
    "# DATA PREPROCESSING : \n",
    "### Making it per month :"
   ]
  },
  {
   "cell_type": "code",
   "execution_count": 8,
   "metadata": {},
   "outputs": [
    {
     "data": {
      "text/plain": [
       "4610"
      ]
     },
     "execution_count": 8,
     "metadata": {},
     "output_type": "execute_result"
    }
   ],
   "source": [
    "data = df.filter(['Close'])\n",
    "dataset = data.values\n",
    "\n",
    "import math\n",
    "training_data_len = math.ceil(len(dataset) *.8)\n",
    "training_data_len"
   ]
  },
  {
   "cell_type": "code",
   "execution_count": 10,
   "metadata": {},
   "outputs": [],
   "source": [
    "#scale the data :\n",
    "from sklearn.preprocessing import MinMaxScaler\n",
    "scaler = MinMaxScaler(feature_range=(0,1))\n",
    "scaled_data = scaler.fit_transform(data)"
   ]
  },
  {
   "cell_type": "code",
   "execution_count": 16,
   "metadata": {},
   "outputs": [
    {
     "name": "stdout",
     "output_type": "stream",
     "text": [
      "(4550, 60) (4550,)\n"
     ]
    }
   ],
   "source": [
    "#create training dataset :\n",
    "WINDOW = 60\n",
    "#create the sclaed training dataset\n",
    "train_data = scaled_data[:training_data_len,:]\n",
    "#split the data into x_train and y_train datasets\n",
    "x_train = []\n",
    "y_train = []\n",
    "\n",
    "for i in range(WINDOW,len(train_data)):\n",
    "    x_train.append(train_data[i-WINDOW:i,0])\n",
    "    y_train.append(train_data[i,0])\n",
    "\n"
   ]
  },
  {
   "cell_type": "code",
   "execution_count": 17,
   "metadata": {},
   "outputs": [],
   "source": [
    "x_train = np.array(x_train)\n",
    "y_train = np.array(y_train)"
   ]
  },
  {
   "cell_type": "code",
   "execution_count": 22,
   "metadata": {},
   "outputs": [
    {
     "data": {
      "text/plain": [
       "(4550, 60, 1)"
      ]
     },
     "execution_count": 22,
     "metadata": {},
     "output_type": "execute_result"
    }
   ],
   "source": [
    "#reshape :\n",
    "x_train = np.reshape(x_train , (x_train.shape[0],x_train.shape[1],1))\n",
    "x_train.shape"
   ]
  },
  {
   "cell_type": "markdown",
   "metadata": {},
   "source": [
    "# Model creation"
   ]
  },
  {
   "cell_type": "code",
   "execution_count": 23,
   "metadata": {},
   "outputs": [],
   "source": [
    "model = Sequential()\n",
    "\n",
    "model.add(LSTM(50,return_sequences=True,input_shape = (WINDOW,1)))\n",
    "model.add(LSTM(50,return_sequences=False))\n",
    "model.add(Dense(25))\n",
    "model.add(Dense(1))\n",
    "\n",
    "\n",
    "model.compile(\n",
    "    loss='mean_squared_error',\n",
    "    optimizer=tf.keras.optimizers.Adam(learning_rate=0.001),\n",
    "    metrics=['mean_absolute_error']\n",
    ")"
   ]
  },
  {
   "cell_type": "code",
   "execution_count": 25,
   "metadata": {},
   "outputs": [],
   "source": [
    "## callbacks\n",
    "from keras.callbacks import ReduceLROnPlateau\n",
    "reduce_lr = ReduceLROnPlateau(monitor='val_loss', factor=0.2,patience=20, min_lr=0.00001)"
   ]
  },
  {
   "cell_type": "code",
   "execution_count": null,
   "metadata": {},
   "outputs": [],
   "source": [
    "model.fit(\n",
    "    x_train,\n",
    "    y_train,\n",
    "    batch_size=1,\n",
    "    epochs=100,\n",
    "    callbacks=[reduce_lr]\n",
    ")"
   ]
  },
  {
   "cell_type": "code",
   "execution_count": 31,
   "metadata": {},
   "outputs": [
    {
     "name": "stdout",
     "output_type": "stream",
     "text": [
      "x_test shape = (1092, 60, 1) , y_test shape = (1092,)\n"
     ]
    }
   ],
   "source": [
    "#create testing data set :\n",
    "test_data = scaled_data[training_data_len:,:]\n",
    "\n",
    "#splitting :\n",
    "x_test, y_test = [],[]\n",
    "\n",
    "for i in range(WINDOW,len(test_data)):\n",
    "    x_test.append(test_data[i-WINDOW:i,0])\n",
    "    y_test.append(test_data[i,0])\n",
    "\n",
    "x_test = np.array(x_test)\n",
    "x_test = np.reshape(x_test, (x_test.shape[0],x_test.shape[1],1))\n",
    "y_test = np.array(y_test)\n",
    "print(f\"x_test shape = {x_test.shape} , y_test shape = {y_test.shape}\")"
   ]
  },
  {
   "cell_type": "code",
   "execution_count": null,
   "metadata": {},
   "outputs": [],
   "source": []
  }
 ],
 "metadata": {
  "interpreter": {
   "hash": "64f62ddfe7fe9adb650e0bcd07cba523592f74b5a8c5e99bdcf622be8478c510"
  },
  "kernelspec": {
   "display_name": "Python 3.10.4 ('PFA_WEBAPP')",
   "language": "python",
   "name": "python3"
  },
  "language_info": {
   "codemirror_mode": {
    "name": "ipython",
    "version": 3
   },
   "file_extension": ".py",
   "mimetype": "text/x-python",
   "name": "python",
   "nbconvert_exporter": "python",
   "pygments_lexer": "ipython3",
   "version": "3.10.4"
  },
  "orig_nbformat": 4
 },
 "nbformat": 4,
 "nbformat_minor": 2
}
